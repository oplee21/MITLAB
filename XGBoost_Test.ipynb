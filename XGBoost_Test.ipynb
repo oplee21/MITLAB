{
  "nbformat": 4,
  "nbformat_minor": 0,
  "metadata": {
    "colab": {
      "provenance": [],
      "authorship_tag": "ABX9TyNvoMmycOtE02AjylzN2qTJ",
      "include_colab_link": true
    },
    "kernelspec": {
      "name": "python3",
      "display_name": "Python 3"
    },
    "language_info": {
      "name": "python"
    }
  },
  "cells": [
    {
      "cell_type": "markdown",
      "metadata": {
        "id": "view-in-github",
        "colab_type": "text"
      },
      "source": [
        "<a href=\"https://colab.research.google.com/github/oplee21/MITLAB/blob/Master/XGBoost_Test.ipynb\" target=\"_parent\"><img src=\"https://colab.research.google.com/assets/colab-badge.svg\" alt=\"Open In Colab\"/></a>"
      ]
    },
    {
      "cell_type": "markdown",
      "source": [
        "# 파이썬 래퍼 XGBoost"
      ],
      "metadata": {
        "id": "FMKkoqwGKevK"
      }
    },
    {
      "cell_type": "code",
      "execution_count": 2,
      "metadata": {
        "id": "OpDSqT9IKCOc"
      },
      "outputs": [],
      "source": [
        "# 파이썬 래퍼\n",
        "\n",
        "import xgboost as xgb\n",
        "from xgboost import plot_importance\n",
        "import pandas as pd\n",
        "import numpy as np\n",
        "from sklearn.datasets import load_breast_cancer\n",
        "from sklearn.model_selection import train_test_split\n",
        "import warnings\n",
        "warnings.filterwarnings('ignore')"
      ]
    },
    {
      "cell_type": "code",
      "source": [
        "dataset = load_breast_cancer()\n",
        "features = dataset.data\n",
        "labels = dataset.target"
      ],
      "metadata": {
        "id": "Skmjm8CGLIqp"
      },
      "execution_count": 3,
      "outputs": []
    },
    {
      "cell_type": "code",
      "source": [
        "cancer_df = pd.DataFrame(data = features, columns = dataset.feature_names)\n",
        "cancer_df['target'] = labels\n",
        "cancer_df.head(3)"
      ],
      "metadata": {
        "colab": {
          "base_uri": "https://localhost:8080/",
          "height": 271
        },
        "id": "jFFQLkIqTwQh",
        "outputId": "907b0b2d-7143-4c4f-d665-d1fcea80a670"
      },
      "execution_count": 4,
      "outputs": [
        {
          "output_type": "execute_result",
          "data": {
            "text/plain": [
              "   mean radius  mean texture  mean perimeter  mean area  mean smoothness  \\\n",
              "0        17.99         10.38           122.8     1001.0          0.11840   \n",
              "1        20.57         17.77           132.9     1326.0          0.08474   \n",
              "2        19.69         21.25           130.0     1203.0          0.10960   \n",
              "\n",
              "   mean compactness  mean concavity  mean concave points  mean symmetry  \\\n",
              "0           0.27760          0.3001              0.14710         0.2419   \n",
              "1           0.07864          0.0869              0.07017         0.1812   \n",
              "2           0.15990          0.1974              0.12790         0.2069   \n",
              "\n",
              "   mean fractal dimension  ...  worst texture  worst perimeter  worst area  \\\n",
              "0                 0.07871  ...          17.33            184.6      2019.0   \n",
              "1                 0.05667  ...          23.41            158.8      1956.0   \n",
              "2                 0.05999  ...          25.53            152.5      1709.0   \n",
              "\n",
              "   worst smoothness  worst compactness  worst concavity  worst concave points  \\\n",
              "0            0.1622             0.6656           0.7119                0.2654   \n",
              "1            0.1238             0.1866           0.2416                0.1860   \n",
              "2            0.1444             0.4245           0.4504                0.2430   \n",
              "\n",
              "   worst symmetry  worst fractal dimension  target  \n",
              "0          0.4601                  0.11890       0  \n",
              "1          0.2750                  0.08902       0  \n",
              "2          0.3613                  0.08758       0  \n",
              "\n",
              "[3 rows x 31 columns]"
            ],
            "text/html": [
              "\n",
              "  <div id=\"df-7f53f2df-78b1-4c1a-bf0c-514fd3ed59c0\">\n",
              "    <div class=\"colab-df-container\">\n",
              "      <div>\n",
              "<style scoped>\n",
              "    .dataframe tbody tr th:only-of-type {\n",
              "        vertical-align: middle;\n",
              "    }\n",
              "\n",
              "    .dataframe tbody tr th {\n",
              "        vertical-align: top;\n",
              "    }\n",
              "\n",
              "    .dataframe thead th {\n",
              "        text-align: right;\n",
              "    }\n",
              "</style>\n",
              "<table border=\"1\" class=\"dataframe\">\n",
              "  <thead>\n",
              "    <tr style=\"text-align: right;\">\n",
              "      <th></th>\n",
              "      <th>mean radius</th>\n",
              "      <th>mean texture</th>\n",
              "      <th>mean perimeter</th>\n",
              "      <th>mean area</th>\n",
              "      <th>mean smoothness</th>\n",
              "      <th>mean compactness</th>\n",
              "      <th>mean concavity</th>\n",
              "      <th>mean concave points</th>\n",
              "      <th>mean symmetry</th>\n",
              "      <th>mean fractal dimension</th>\n",
              "      <th>...</th>\n",
              "      <th>worst texture</th>\n",
              "      <th>worst perimeter</th>\n",
              "      <th>worst area</th>\n",
              "      <th>worst smoothness</th>\n",
              "      <th>worst compactness</th>\n",
              "      <th>worst concavity</th>\n",
              "      <th>worst concave points</th>\n",
              "      <th>worst symmetry</th>\n",
              "      <th>worst fractal dimension</th>\n",
              "      <th>target</th>\n",
              "    </tr>\n",
              "  </thead>\n",
              "  <tbody>\n",
              "    <tr>\n",
              "      <th>0</th>\n",
              "      <td>17.99</td>\n",
              "      <td>10.38</td>\n",
              "      <td>122.8</td>\n",
              "      <td>1001.0</td>\n",
              "      <td>0.11840</td>\n",
              "      <td>0.27760</td>\n",
              "      <td>0.3001</td>\n",
              "      <td>0.14710</td>\n",
              "      <td>0.2419</td>\n",
              "      <td>0.07871</td>\n",
              "      <td>...</td>\n",
              "      <td>17.33</td>\n",
              "      <td>184.6</td>\n",
              "      <td>2019.0</td>\n",
              "      <td>0.1622</td>\n",
              "      <td>0.6656</td>\n",
              "      <td>0.7119</td>\n",
              "      <td>0.2654</td>\n",
              "      <td>0.4601</td>\n",
              "      <td>0.11890</td>\n",
              "      <td>0</td>\n",
              "    </tr>\n",
              "    <tr>\n",
              "      <th>1</th>\n",
              "      <td>20.57</td>\n",
              "      <td>17.77</td>\n",
              "      <td>132.9</td>\n",
              "      <td>1326.0</td>\n",
              "      <td>0.08474</td>\n",
              "      <td>0.07864</td>\n",
              "      <td>0.0869</td>\n",
              "      <td>0.07017</td>\n",
              "      <td>0.1812</td>\n",
              "      <td>0.05667</td>\n",
              "      <td>...</td>\n",
              "      <td>23.41</td>\n",
              "      <td>158.8</td>\n",
              "      <td>1956.0</td>\n",
              "      <td>0.1238</td>\n",
              "      <td>0.1866</td>\n",
              "      <td>0.2416</td>\n",
              "      <td>0.1860</td>\n",
              "      <td>0.2750</td>\n",
              "      <td>0.08902</td>\n",
              "      <td>0</td>\n",
              "    </tr>\n",
              "    <tr>\n",
              "      <th>2</th>\n",
              "      <td>19.69</td>\n",
              "      <td>21.25</td>\n",
              "      <td>130.0</td>\n",
              "      <td>1203.0</td>\n",
              "      <td>0.10960</td>\n",
              "      <td>0.15990</td>\n",
              "      <td>0.1974</td>\n",
              "      <td>0.12790</td>\n",
              "      <td>0.2069</td>\n",
              "      <td>0.05999</td>\n",
              "      <td>...</td>\n",
              "      <td>25.53</td>\n",
              "      <td>152.5</td>\n",
              "      <td>1709.0</td>\n",
              "      <td>0.1444</td>\n",
              "      <td>0.4245</td>\n",
              "      <td>0.4504</td>\n",
              "      <td>0.2430</td>\n",
              "      <td>0.3613</td>\n",
              "      <td>0.08758</td>\n",
              "      <td>0</td>\n",
              "    </tr>\n",
              "  </tbody>\n",
              "</table>\n",
              "<p>3 rows × 31 columns</p>\n",
              "</div>\n",
              "      <button class=\"colab-df-convert\" onclick=\"convertToInteractive('df-7f53f2df-78b1-4c1a-bf0c-514fd3ed59c0')\"\n",
              "              title=\"Convert this dataframe to an interactive table.\"\n",
              "              style=\"display:none;\">\n",
              "        \n",
              "  <svg xmlns=\"http://www.w3.org/2000/svg\" height=\"24px\"viewBox=\"0 0 24 24\"\n",
              "       width=\"24px\">\n",
              "    <path d=\"M0 0h24v24H0V0z\" fill=\"none\"/>\n",
              "    <path d=\"M18.56 5.44l.94 2.06.94-2.06 2.06-.94-2.06-.94-.94-2.06-.94 2.06-2.06.94zm-11 1L8.5 8.5l.94-2.06 2.06-.94-2.06-.94L8.5 2.5l-.94 2.06-2.06.94zm10 10l.94 2.06.94-2.06 2.06-.94-2.06-.94-.94-2.06-.94 2.06-2.06.94z\"/><path d=\"M17.41 7.96l-1.37-1.37c-.4-.4-.92-.59-1.43-.59-.52 0-1.04.2-1.43.59L10.3 9.45l-7.72 7.72c-.78.78-.78 2.05 0 2.83L4 21.41c.39.39.9.59 1.41.59.51 0 1.02-.2 1.41-.59l7.78-7.78 2.81-2.81c.8-.78.8-2.07 0-2.86zM5.41 20L4 18.59l7.72-7.72 1.47 1.35L5.41 20z\"/>\n",
              "  </svg>\n",
              "      </button>\n",
              "      \n",
              "  <style>\n",
              "    .colab-df-container {\n",
              "      display:flex;\n",
              "      flex-wrap:wrap;\n",
              "      gap: 12px;\n",
              "    }\n",
              "\n",
              "    .colab-df-convert {\n",
              "      background-color: #E8F0FE;\n",
              "      border: none;\n",
              "      border-radius: 50%;\n",
              "      cursor: pointer;\n",
              "      display: none;\n",
              "      fill: #1967D2;\n",
              "      height: 32px;\n",
              "      padding: 0 0 0 0;\n",
              "      width: 32px;\n",
              "    }\n",
              "\n",
              "    .colab-df-convert:hover {\n",
              "      background-color: #E2EBFA;\n",
              "      box-shadow: 0px 1px 2px rgba(60, 64, 67, 0.3), 0px 1px 3px 1px rgba(60, 64, 67, 0.15);\n",
              "      fill: #174EA6;\n",
              "    }\n",
              "\n",
              "    [theme=dark] .colab-df-convert {\n",
              "      background-color: #3B4455;\n",
              "      fill: #D2E3FC;\n",
              "    }\n",
              "\n",
              "    [theme=dark] .colab-df-convert:hover {\n",
              "      background-color: #434B5C;\n",
              "      box-shadow: 0px 1px 3px 1px rgba(0, 0, 0, 0.15);\n",
              "      filter: drop-shadow(0px 1px 2px rgba(0, 0, 0, 0.3));\n",
              "      fill: #FFFFFF;\n",
              "    }\n",
              "  </style>\n",
              "\n",
              "      <script>\n",
              "        const buttonEl =\n",
              "          document.querySelector('#df-7f53f2df-78b1-4c1a-bf0c-514fd3ed59c0 button.colab-df-convert');\n",
              "        buttonEl.style.display =\n",
              "          google.colab.kernel.accessAllowed ? 'block' : 'none';\n",
              "\n",
              "        async function convertToInteractive(key) {\n",
              "          const element = document.querySelector('#df-7f53f2df-78b1-4c1a-bf0c-514fd3ed59c0');\n",
              "          const dataTable =\n",
              "            await google.colab.kernel.invokeFunction('convertToInteractive',\n",
              "                                                     [key], {});\n",
              "          if (!dataTable) return;\n",
              "\n",
              "          const docLinkHtml = 'Like what you see? Visit the ' +\n",
              "            '<a target=\"_blank\" href=https://colab.research.google.com/notebooks/data_table.ipynb>data table notebook</a>'\n",
              "            + ' to learn more about interactive tables.';\n",
              "          element.innerHTML = '';\n",
              "          dataTable['output_type'] = 'display_data';\n",
              "          await google.colab.output.renderOutput(dataTable, element);\n",
              "          const docLink = document.createElement('div');\n",
              "          docLink.innerHTML = docLinkHtml;\n",
              "          element.appendChild(docLink);\n",
              "        }\n",
              "      </script>\n",
              "    </div>\n",
              "  </div>\n",
              "  "
            ]
          },
          "metadata": {},
          "execution_count": 4
        }
      ]
    },
    {
      "cell_type": "code",
      "source": [
        "print(dataset.target_names)\n",
        "print(cancer_df['target'].value_counts())"
      ],
      "metadata": {
        "colab": {
          "base_uri": "https://localhost:8080/"
        },
        "id": "eDxDhg4FUBp9",
        "outputId": "8d85cabd-ce77-4adf-83bd-f3872533b9cf"
      },
      "execution_count": 5,
      "outputs": [
        {
          "output_type": "stream",
          "name": "stdout",
          "text": [
            "['malignant' 'benign']\n",
            "1    357\n",
            "0    212\n",
            "Name: target, dtype: int64\n"
          ]
        }
      ]
    },
    {
      "cell_type": "code",
      "source": [
        "X_features = cancer_df.iloc[:, :-1]\n",
        "y_label = cancer_df.iloc[:, -1]"
      ],
      "metadata": {
        "id": "V7pSY-Y4UUdK"
      },
      "execution_count": 6,
      "outputs": []
    },
    {
      "cell_type": "code",
      "source": [
        "# 80% 학습용 데이터, 20% 테스트용 데이터\n",
        "X_train, X_test, y_train, y_test = train_test_split(X_features, y_label, test_size = 0.2, random_state = 156)"
      ],
      "metadata": {
        "id": "fl3rSlkLUwYP"
      },
      "execution_count": 8,
      "outputs": []
    },
    {
      "cell_type": "code",
      "source": [
        "# X_train, y_train을 다시 90% 학습과 10%검증용 데이터로 분리\n",
        "X_tr, X_val, y_tr, y_val = train_test_split(X_train, y_train, test_size = 0.1, random_state = 156)"
      ],
      "metadata": {
        "id": "0DMvDmUFVFNI"
      },
      "execution_count": 9,
      "outputs": []
    },
    {
      "cell_type": "code",
      "source": [
        "print(X_train.shape, X_test.shape)\n",
        "print(X_tr.shape, X_val.shape)"
      ],
      "metadata": {
        "colab": {
          "base_uri": "https://localhost:8080/"
        },
        "id": "gpXPZ6aaVrp1",
        "outputId": "de5752e6-391d-4a01-ae16-a5b3303d8f26"
      },
      "execution_count": 10,
      "outputs": [
        {
          "output_type": "stream",
          "name": "stdout",
          "text": [
            "(455, 30) (114, 30)\n",
            "(409, 30) (46, 30)\n"
          ]
        }
      ]
    },
    {
      "cell_type": "code",
      "source": [
        "# 학습, 검증, 테스트용 DMatrix 생성\n",
        "dtr = xgb.DMatrix(data = X_tr, label = y_tr)\n",
        "dval = xgb.DMatrix(data = X_val, label = y_val)\n",
        "dtest = xgb.DMatrix(data = X_test, label = y_test)"
      ],
      "metadata": {
        "id": "LZLMeqRSVzwF"
      },
      "execution_count": 12,
      "outputs": []
    },
    {
      "cell_type": "code",
      "source": [
        "# 하이퍼 파라미터 설정\n",
        "params = {'max_depth' : 3,\n",
        "          'eta': 0.05,\n",
        "          'objective':'binary:logistic',\n",
        "          'eval_metric':'logloss'\n",
        "          }\n",
        "num_rounds = 400"
      ],
      "metadata": {
        "id": "L_Bm7i0rW0DF"
      },
      "execution_count": 13,
      "outputs": []
    },
    {
      "cell_type": "code",
      "source": [
        "eval_list = [(dval, 'eval')]\n",
        "\n",
        "xgb_model = xgb.train(params = params, dtrain = dtr, num_boost_round = num_rounds, \\\n",
        "                      early_stopping_rounds = 50, evals = eval_list)"
      ],
      "metadata": {
        "colab": {
          "base_uri": "https://localhost:8080/"
        },
        "id": "1aQXl9oEX67T",
        "outputId": "b4f9c5f3-9929-467b-f73e-0f6248189091"
      },
      "execution_count": 14,
      "outputs": [
        {
          "output_type": "stream",
          "name": "stdout",
          "text": [
            "[0]\teval-logloss:0.66183\n",
            "[1]\teval-logloss:0.63609\n",
            "[2]\teval-logloss:0.61144\n",
            "[3]\teval-logloss:0.59204\n",
            "[4]\teval-logloss:0.57329\n",
            "[5]\teval-logloss:0.55037\n",
            "[6]\teval-logloss:0.52930\n",
            "[7]\teval-logloss:0.51534\n",
            "[8]\teval-logloss:0.49718\n",
            "[9]\teval-logloss:0.48154\n",
            "[10]\teval-logloss:0.46990\n",
            "[11]\teval-logloss:0.45474\n",
            "[12]\teval-logloss:0.44229\n",
            "[13]\teval-logloss:0.42961\n",
            "[14]\teval-logloss:0.42065\n",
            "[15]\teval-logloss:0.40958\n",
            "[16]\teval-logloss:0.39887\n",
            "[17]\teval-logloss:0.39050\n",
            "[18]\teval-logloss:0.38254\n",
            "[19]\teval-logloss:0.37393\n",
            "[20]\teval-logloss:0.36789\n",
            "[21]\teval-logloss:0.36017\n",
            "[22]\teval-logloss:0.35421\n",
            "[23]\teval-logloss:0.34683\n",
            "[24]\teval-logloss:0.34111\n",
            "[25]\teval-logloss:0.33634\n",
            "[26]\teval-logloss:0.33082\n",
            "[27]\teval-logloss:0.32675\n",
            "[28]\teval-logloss:0.32099\n",
            "[29]\teval-logloss:0.31671\n",
            "[30]\teval-logloss:0.31277\n",
            "[31]\teval-logloss:0.30882\n",
            "[32]\teval-logloss:0.30437\n",
            "[33]\teval-logloss:0.30103\n",
            "[34]\teval-logloss:0.29794\n",
            "[35]\teval-logloss:0.29499\n",
            "[36]\teval-logloss:0.29295\n",
            "[37]\teval-logloss:0.29043\n",
            "[38]\teval-logloss:0.28927\n",
            "[39]\teval-logloss:0.28578\n",
            "[40]\teval-logloss:0.28364\n",
            "[41]\teval-logloss:0.28183\n",
            "[42]\teval-logloss:0.28005\n",
            "[43]\teval-logloss:0.27972\n",
            "[44]\teval-logloss:0.27744\n",
            "[45]\teval-logloss:0.27542\n",
            "[46]\teval-logloss:0.27504\n",
            "[47]\teval-logloss:0.27458\n",
            "[48]\teval-logloss:0.27348\n",
            "[49]\teval-logloss:0.27247\n",
            "[50]\teval-logloss:0.27163\n",
            "[51]\teval-logloss:0.27094\n",
            "[52]\teval-logloss:0.26967\n",
            "[53]\teval-logloss:0.27008\n",
            "[54]\teval-logloss:0.26890\n",
            "[55]\teval-logloss:0.26854\n",
            "[56]\teval-logloss:0.26900\n",
            "[57]\teval-logloss:0.26790\n",
            "[58]\teval-logloss:0.26663\n",
            "[59]\teval-logloss:0.26743\n",
            "[60]\teval-logloss:0.26610\n",
            "[61]\teval-logloss:0.26644\n",
            "[62]\teval-logloss:0.26673\n",
            "[63]\teval-logloss:0.26550\n",
            "[64]\teval-logloss:0.26443\n",
            "[65]\teval-logloss:0.26500\n",
            "[66]\teval-logloss:0.26591\n",
            "[67]\teval-logloss:0.26501\n",
            "[68]\teval-logloss:0.26435\n",
            "[69]\teval-logloss:0.26360\n",
            "[70]\teval-logloss:0.26319\n",
            "[71]\teval-logloss:0.26255\n",
            "[72]\teval-logloss:0.26204\n",
            "[73]\teval-logloss:0.26254\n",
            "[74]\teval-logloss:0.26289\n",
            "[75]\teval-logloss:0.26249\n",
            "[76]\teval-logloss:0.26217\n",
            "[77]\teval-logloss:0.26166\n",
            "[78]\teval-logloss:0.26179\n",
            "[79]\teval-logloss:0.26103\n",
            "[80]\teval-logloss:0.26094\n",
            "[81]\teval-logloss:0.26148\n",
            "[82]\teval-logloss:0.26054\n",
            "[83]\teval-logloss:0.25967\n",
            "[84]\teval-logloss:0.25905\n",
            "[85]\teval-logloss:0.26007\n",
            "[86]\teval-logloss:0.25984\n",
            "[87]\teval-logloss:0.25933\n",
            "[88]\teval-logloss:0.25932\n",
            "[89]\teval-logloss:0.26002\n",
            "[90]\teval-logloss:0.25936\n",
            "[91]\teval-logloss:0.25886\n",
            "[92]\teval-logloss:0.25918\n",
            "[93]\teval-logloss:0.25864\n",
            "[94]\teval-logloss:0.25951\n",
            "[95]\teval-logloss:0.26091\n",
            "[96]\teval-logloss:0.26014\n",
            "[97]\teval-logloss:0.25974\n",
            "[98]\teval-logloss:0.25937\n",
            "[99]\teval-logloss:0.25893\n",
            "[100]\teval-logloss:0.25928\n",
            "[101]\teval-logloss:0.25955\n",
            "[102]\teval-logloss:0.25901\n",
            "[103]\teval-logloss:0.25991\n",
            "[104]\teval-logloss:0.25950\n",
            "[105]\teval-logloss:0.25924\n",
            "[106]\teval-logloss:0.25901\n",
            "[107]\teval-logloss:0.25738\n",
            "[108]\teval-logloss:0.25702\n",
            "[109]\teval-logloss:0.25789\n",
            "[110]\teval-logloss:0.25770\n",
            "[111]\teval-logloss:0.25842\n",
            "[112]\teval-logloss:0.25810\n",
            "[113]\teval-logloss:0.25848\n",
            "[114]\teval-logloss:0.25833\n",
            "[115]\teval-logloss:0.25820\n",
            "[116]\teval-logloss:0.25905\n",
            "[117]\teval-logloss:0.25878\n",
            "[118]\teval-logloss:0.25728\n",
            "[119]\teval-logloss:0.25722\n",
            "[120]\teval-logloss:0.25764\n",
            "[121]\teval-logloss:0.25761\n",
            "[122]\teval-logloss:0.25832\n",
            "[123]\teval-logloss:0.25808\n",
            "[124]\teval-logloss:0.25855\n",
            "[125]\teval-logloss:0.25714\n",
            "[126]\teval-logloss:0.25587\n",
            "[127]\teval-logloss:0.25640\n",
            "[128]\teval-logloss:0.25685\n",
            "[129]\teval-logloss:0.25665\n",
            "[130]\teval-logloss:0.25712\n",
            "[131]\teval-logloss:0.25609\n",
            "[132]\teval-logloss:0.25649\n",
            "[133]\teval-logloss:0.25789\n",
            "[134]\teval-logloss:0.25811\n",
            "[135]\teval-logloss:0.25794\n",
            "[136]\teval-logloss:0.25876\n",
            "[137]\teval-logloss:0.25884\n",
            "[138]\teval-logloss:0.25867\n",
            "[139]\teval-logloss:0.25876\n",
            "[140]\teval-logloss:0.25987\n",
            "[141]\teval-logloss:0.25960\n",
            "[142]\teval-logloss:0.25982\n",
            "[143]\teval-logloss:0.25992\n",
            "[144]\teval-logloss:0.26035\n",
            "[145]\teval-logloss:0.26055\n",
            "[146]\teval-logloss:0.26092\n",
            "[147]\teval-logloss:0.26137\n",
            "[148]\teval-logloss:0.25999\n",
            "[149]\teval-logloss:0.26028\n",
            "[150]\teval-logloss:0.26048\n",
            "[151]\teval-logloss:0.26142\n",
            "[152]\teval-logloss:0.26188\n",
            "[153]\teval-logloss:0.26227\n",
            "[154]\teval-logloss:0.26287\n",
            "[155]\teval-logloss:0.26299\n",
            "[156]\teval-logloss:0.26346\n",
            "[157]\teval-logloss:0.26379\n",
            "[158]\teval-logloss:0.26306\n",
            "[159]\teval-logloss:0.26237\n",
            "[160]\teval-logloss:0.26251\n",
            "[161]\teval-logloss:0.26265\n",
            "[162]\teval-logloss:0.26264\n",
            "[163]\teval-logloss:0.26250\n",
            "[164]\teval-logloss:0.26264\n",
            "[165]\teval-logloss:0.26255\n",
            "[166]\teval-logloss:0.26188\n",
            "[167]\teval-logloss:0.26203\n",
            "[168]\teval-logloss:0.26190\n",
            "[169]\teval-logloss:0.26184\n",
            "[170]\teval-logloss:0.26133\n",
            "[171]\teval-logloss:0.26148\n",
            "[172]\teval-logloss:0.26157\n",
            "[173]\teval-logloss:0.26253\n",
            "[174]\teval-logloss:0.26229\n",
            "[175]\teval-logloss:0.26086\n",
            "[176]\teval-logloss:0.26103\n"
          ]
        }
      ]
    },
    {
      "cell_type": "code",
      "source": [
        "# 예측수행\n",
        "\n",
        "pred_probs = xgb_model.predict(dtest)\n",
        "print('predict() 수행 결과값을 10개만 표시, 예측 확률 값으로 표시됨됨')\n",
        "print(np.round(pred_probs[:10], 3))"
      ],
      "metadata": {
        "colab": {
          "base_uri": "https://localhost:8080/"
        },
        "id": "MzQT45ojYveF",
        "outputId": "cba922c2-9b2c-43fb-beaf-08d1a796da66"
      },
      "execution_count": 18,
      "outputs": [
        {
          "output_type": "stream",
          "name": "stdout",
          "text": [
            "predict() 수행 결과값을 10개만 표시, 예측 확률 값으로 표시됨됨\n",
            "[0.845 0.008 0.68  0.081 0.975 0.999 0.998 0.998 0.996 0.001]\n"
          ]
        }
      ]
    },
    {
      "cell_type": "code",
      "source": [
        "# 예측 확률이 0.5보다 크면 1, 그렇지 않으면 0으로 예측값 결정하여 list객체인 preds에 저장\n",
        "preds = [ 1 if x > 0.5 else 0 for x in pred_probs]\n",
        "print('예측값 10개만 표시:', preds[:10])"
      ],
      "metadata": {
        "colab": {
          "base_uri": "https://localhost:8080/"
        },
        "id": "ZS4sVnoIa3I-",
        "outputId": "f6776147-79da-4b24-d57d-4813ad87ea71"
      },
      "execution_count": 19,
      "outputs": [
        {
          "output_type": "stream",
          "name": "stdout",
          "text": [
            "예측값 10개만 표시: [1, 0, 1, 0, 1, 1, 1, 1, 1, 0]\n"
          ]
        }
      ]
    },
    {
      "cell_type": "code",
      "source": [
        "# 오차행렬 함수 정의\n",
        "\n",
        "from sklearn.metrics import accuracy_score, precision_score, recall_score, confusion_matrix\n",
        "from sklearn.metrics import f1_score, roc_auc_score\n",
        "\n",
        "def get_model_eval(y_test, pred=None, pred_proba = None):\n",
        "  confusion = confusion_matrix(y_test, pred)\n",
        "  accuracy = accuracy_score(y_test, pred)\n",
        "  precision = precision_score(y_test, pred)\n",
        "  recall = recall_score(y_test, pred)\n",
        "  f1 = f1_score(y_test, pred)\n",
        "  roc_auc = roc_auc_score(y_test, pred_proba)\n",
        "  \n",
        "  print('Confusion Matrix')\n",
        "  print(confusion)\n",
        "  print('Accuracy: {0:.4f}, Precision: {1:.4f}, Recall: {2:.4f},  F1:{3:.4f}, AUC:{4:.4f}'.format(accuracy, precision, recall, f1, roc_auc))"
      ],
      "metadata": {
        "id": "wb7fQt3hbtgi"
      },
      "execution_count": 36,
      "outputs": []
    },
    {
      "cell_type": "code",
      "source": [
        "get_model_eval(y_test, preds, pred_probs)"
      ],
      "metadata": {
        "colab": {
          "base_uri": "https://localhost:8080/"
        },
        "id": "2Ov3igmidOXH",
        "outputId": "8b3f2d5e-ddf3-4607-ab67-9a8ddfa79aef"
      },
      "execution_count": 37,
      "outputs": [
        {
          "output_type": "stream",
          "name": "stdout",
          "text": [
            "Confusion Matrix\n",
            "[[34  3]\n",
            " [ 2 75]]\n",
            "Accuracy: 0.9561, Precision: 0.9615, Recall: 0.9740,  F1:0.9677, AUC:0.9937\n"
          ]
        }
      ]
    },
    {
      "cell_type": "code",
      "source": [],
      "metadata": {
        "id": "H2X7pg_Hdba0"
      },
      "execution_count": null,
      "outputs": []
    }
  ]
}