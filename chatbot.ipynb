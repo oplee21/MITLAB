{
 "cells": [
  {
   "cell_type": "code",
   "execution_count": 15,
   "id": "f8331e94",
   "metadata": {},
   "outputs": [],
   "source": [
    "import pandas as pd\n",
    "\n",
    "# sklearn라는 머신러닝 라이브러리에서 TfidfVectorizer와 cosine_similarity를 불러옴\n",
    "# TfidfVectorizer는 문서의 텍스트 데이터를 벡터 형태로 변환하는데 사용하며, cosine_similarity는 두 벡터 간의 코사인 유사도를 계산\n",
    "from sklearn.feature_extraction.text import TfidfVectorizer\n",
    "from sklearn.metrics.pairwise import cosine_similarity\n",
    "\n",
    "# 챗봇 클래스를 정의\n",
    "class SimpleChatBot:\n",
    "    # 챗봇 객체를 초기화하는 메서드, 초기화 시에는 입력된 데이터 파일을 로드하고, TfidfVectorizer를 사용해 질문 데이터를 벡터화함\n",
    "    def __init__(self, filepath):\n",
    "        self.questions, self.answers = self.load_data(filepath)\n",
    "        self.vectorizer = TfidfVectorizer()\n",
    "        self.question_vectors = self.vectorizer.fit_transform(self.questions)\n",
    "\n",
    "    # CSV 파일로부터 질문과 답변 데이터를 불러오는 메서드\n",
    "    def load_data(self, filepath):\n",
    "        data = pd.read_csv(filepath)\n",
    "        questions = data['Q'].tolist()\n",
    "        answers = data['A'].tolist()\n",
    "        return questions, answers\n",
    "\n",
    "    # 입력 문장에 가장 잘 맞는 답변을 찾는 메서드, 입력 문장을 벡터화하고, 이를 기존 질문 벡터들과 비교하여 가장 높은 유사도를 가진 질문의 답변을 반환함\n",
    "    \n",
    "    # 레벤슈타인 거리 구하기\n",
    "    def find_best_answer(self, a, b):\n",
    "        ''' 레벤슈타인 거리 계산하기 '''\n",
    "        if a == b: return 0 # 같으면 0을 반환\n",
    "        a_len = len(a) # a 길이\n",
    "        b_len = len(b) # b 길이\n",
    "        if a == \"\": return b_len\n",
    "        if b == \"\": return a_len\n",
    "        # 2차원 표 (a_len+1, b_len+1) 준비하기 --- (※1)\n",
    "        # matrix 초기화의 예 : [[0, 1, 2, 3], [1, 0, 0, 0, 0], [2, 0, 0, 0, 0], [3, 0, 0, 0, 0], [4, 0, 0, 0, 0]]\n",
    "        # [0, 1, 2, 3]\n",
    "        # [1, 0, 0, 0]\n",
    "        # [2, 0, 0, 0]\n",
    "        # [3, 0, 0, 0] \n",
    "        matrix = [[] for i in range(a_len+1)] # 리스트 컴프리헨션을 사용하여 1차원 초기화\n",
    "        for i in range(a_len+1): # 0으로 초기화\n",
    "            matrix[i] = [0 for j in range(b_len+1)]  # 리스트 컴프리헨션을 사용하여 2차원 초기화\n",
    "        # 0일 때 초깃값을 설정\n",
    "        for i in range(a_len+1):\n",
    "            matrix[i][0] = i\n",
    "        for j in range(b_len+1):\n",
    "            matrix[0][j] = j\n",
    "        # 표 채우기 --- (※2)\n",
    "        # print(matrix,'----------')\n",
    "        for i in range(1, a_len+1):\n",
    "            ac = a[i-1]\n",
    "            # print(ac,'=============')\n",
    "            for j in range(1, b_len+1):\n",
    "                bc = b[j-1] \n",
    "                # print(bc)\n",
    "                cost = 0 if (ac == bc) else 1  #  파이썬 조건 표현식 예:) result = value1 if condition else value2\n",
    "                matrix[i][j] = min([\n",
    "                    matrix[i-1][j] + 1,     # 문자 제거: 위쪽에서 +1\n",
    "                    matrix[i][j-1] + 1,     # 문자 삽입: 왼쪽 수에서 +1   \n",
    "                    matrix[i-1][j-1] + cost # 문자 변경: 대각선에서 +1, 문자가 동일하면 대각선 숫자 복사\n",
    "                ])\n",
    "                # print(matrix)\n",
    "            # print(matrix,'----------끝')\n",
    "        return matrix[a_len][b_len]    "
   ]
  },
  {
   "cell_type": "code",
   "execution_count": null,
   "id": "e6a07fd7",
   "metadata": {},
   "outputs": [
    {
     "name": "stdout",
     "output_type": "stream",
     "text": [
      "You: 사랑한다\n",
      "Chatbot: 예뻐해 주세요.\n"
     ]
    }
   ],
   "source": [
    "# 데이터 파일의 경로를 지정합니다.\n",
    "filepath = 'ChatbotData.csv'\n",
    "\n",
    "# 챗봇 객체를 생성합니다.\n",
    "chatbot = SimpleChatBot(filepath)\n",
    "\n",
    "# '종료'라는 입력이 나올 때까지 사용자의 입력에 따라 챗봇의 응답을 출력하는 무한 루프를 실행합니다.\n",
    "while True:\n",
    "    input_sentence = input('You: ')\n",
    "    if input_sentence.lower() == '종료':\n",
    "        break\n",
    "    # 실행 예\n",
    "    samples = chatbot.questions\n",
    "    base = input_sentence\n",
    "    #r = sorted(samples, key = lambda n: chatbot.find_best_answer(base, n))  # samples 리스트의 각 요소에 대해 chatbot.find_best_answer(base, n) 함수를 호출하여 레벤슈타인 거리를 계산하고, 이를 기준으로 리스트를 정렬\n",
    "    item = list(map(lambda x: chatbot.find_best_answer(base, x), samples)) \n",
    "    best_match_index = item.index(min(item))\n",
    "    chatbot.answers[best_match_index]\n",
    "    \n",
    "    response = chatbot.answers[best_match_index]\n",
    "    print('Chatbot:', response)"
   ]
  }
 ],
 "metadata": {
  "kernelspec": {
   "display_name": "Python 3 (ipykernel)",
   "language": "python",
   "name": "python3"
  },
  "language_info": {
   "codemirror_mode": {
    "name": "ipython",
    "version": 3
   },
   "file_extension": ".py",
   "mimetype": "text/x-python",
   "name": "python",
   "nbconvert_exporter": "python",
   "pygments_lexer": "ipython3",
   "version": "3.9.7"
  }
 },
 "nbformat": 4,
 "nbformat_minor": 5
}
